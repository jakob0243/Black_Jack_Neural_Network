{
 "cells": [
  {
   "cell_type": "code",
   "execution_count": 1,
   "metadata": {},
   "outputs": [],
   "source": [
    "import tensorflow as tf\n",
    "from tensorflow.keras.models import Sequential\n",
    "from tensorflow.keras.layers import Dense, InputLayer\n",
    "import pickle\n",
    "import numpy as np"
   ]
  },
  {
   "cell_type": "code",
   "execution_count": 2,
   "metadata": {},
   "outputs": [
    {
     "name": "stdout",
     "output_type": "stream",
     "text": [
      "[[0.90909091 0.90909091 0.90909091]\n",
      " [0.54545455 0.45454545 0.45454545]\n",
      " [0.36363636 0.63636364 0.18181818]\n",
      " ...\n",
      " [0.90909091 0.90909091 0.90909091]\n",
      " [0.90909091 1.         0.72727273]\n",
      " [1.         0.27272727 0.27272727]]\n"
     ]
    }
   ],
   "source": [
    "X = pickle.load(open(\"X.pickle\", \"rb\"))\n",
    "y = pickle.load(open(\"y.pickle\", \"rb\"))\n",
    "\n",
    "X = X/11 # Normalise to between 0 and 1\n",
    "print(X)"
   ]
  },
  {
   "cell_type": "code",
   "execution_count": 4,
   "metadata": {},
   "outputs": [
    {
     "name": "stdout",
     "output_type": "stream",
     "text": [
      "Train on 652613 samples, validate on 163154 samples\n",
      "Epoch 1/4\n",
      "652613/652613 [==============================] - 19s 29us/sample - loss: 0.2206 - acc: 0.9175 - val_loss: 0.1856 - val_acc: 0.9364\n",
      "Epoch 2/4\n",
      "652613/652613 [==============================] - 17s 27us/sample - loss: 0.1854 - acc: 0.9253 - val_loss: 0.1886 - val_acc: 0.9184\n",
      "Epoch 3/4\n",
      "652613/652613 [==============================] - 17s 26us/sample - loss: 0.1846 - acc: 0.9250 - val_loss: 0.1853 - val_acc: 0.9267\n",
      "Epoch 4/4\n",
      "652613/652613 [==============================] - 17s 26us/sample - loss: 0.1844 - acc: 0.9252 - val_loss: 0.1854 - val_acc: 0.9213\n",
      "Done\n"
     ]
    }
   ],
   "source": [
    "model = Sequential()\n",
    "model.add(tf.keras.layers.Dense(3)) # Input layer\n",
    "model.add(tf.keras.layers.Dense(4, activation=\"relu\")) # adds the first layer of the network\n",
    "model.add(tf.keras.layers.Dense(4, activation=\"relu\")) # adds the second layer of the network\n",
    "model.add(tf.keras.layers.Dense(3, activation=\"relu\"))\n",
    "model.add(tf.keras.layers.Dense(1, activation=\"sigmoid\"))\n",
    "\n",
    "model.compile(optimizer='adam', loss='binary_crossentropy', metrics=['accuracy'])\n",
    "model.fit(X, y, batch_size=32, epochs=4, validation_split=0.2)\n",
    "print(\"Done\")\n",
    "model.save(\"testingtesting-4-epochs.model\")"
   ]
  },
  {
   "cell_type": "code",
   "execution_count": null,
   "metadata": {},
   "outputs": [],
   "source": []
  }
 ],
 "metadata": {
  "kernelspec": {
   "display_name": "Python 3",
   "language": "python",
   "name": "python3"
  },
  "language_info": {
   "codemirror_mode": {
    "name": "ipython",
    "version": 3
   },
   "file_extension": ".py",
   "mimetype": "text/x-python",
   "name": "python",
   "nbconvert_exporter": "python",
   "pygments_lexer": "ipython3",
   "version": "3.7.3"
  }
 },
 "nbformat": 4,
 "nbformat_minor": 2
}
