{
 "cells": [
  {
   "cell_type": "code",
   "execution_count": 7,
   "metadata": {},
   "outputs": [
    {
     "name": "stdout",
     "output_type": "stream",
     "text": [
      "<class 'str'>\n",
      "['10', ' 9', ' 0', ' 0', ' 0', ' 10', ' 8', ' Win', 'False']\n"
     ]
    }
   ],
   "source": [
    "# Cell reads the data in the file Hit_Data.txt (must be a .txt file). Then splits each line in toi the comma seperated values\n",
    "infile = open(\"Hit_Data.txt\")\n",
    "lines = infile.readlines()\n",
    "lines = lines[1:]\n",
    "new = []\n",
    "for line in lines:\n",
    "    line = line[:-1]\n",
    "    new.append(line.split(\", \"))\n",
    "# For debug\n",
    "print(type(lines[1])) \n",
    "print(repr(new[1]))"
   ]
  },
  {
   "cell_type": "code",
   "execution_count": 8,
   "metadata": {},
   "outputs": [],
   "source": [
    "# Removes the unneccesary data from each line adding the new items(values at indices 0, 1, 5, 7, 8) to the list new_lines\n",
    "indexes = [0, 1, 5, 7, 8] # Relevant indices\n",
    "new_lines = []\n",
    "for line in new:\n",
    "    temp_line = []\n",
    "    for index in indexes:\n",
    "        temp_line.append(line[index])\n",
    "    new_lines.append(temp_line)"
   ]
  },
  {
   "cell_type": "code",
   "execution_count": 9,
   "metadata": {},
   "outputs": [
    {
     "name": "stdout",
     "output_type": "stream",
     "text": [
      "[10, 9, 10, 'Win', 'False']\n"
     ]
    }
   ],
   "source": [
    "# Changes the strings that need to be ints to ints\n",
    "for line in new_lines:\n",
    "    for i in range(0, 3):\n",
    "        line[i] = int(line[i])\n",
    "    line[3] = line[3][1:]\n",
    "        \n",
    "print(new_lines[1]) # For debug"
   ]
  },
  {
   "cell_type": "code",
   "execution_count": 10,
   "metadata": {},
   "outputs": [
    {
     "name": "stdout",
     "output_type": "stream",
     "text": [
      "[[[7, 10, 10, 'Loss'], 1], [[10, 9, 10, 'Win'], 1], [[9, 8, 10, 'Loss'], 1]]\n"
     ]
    }
   ],
   "source": [
    "# Creates an array where each item is a list of a list of card and win values, \n",
    "# and also the class value(the label for NN training) 0 if hit or 1 if stand\n",
    "training_data = []\n",
    "for line in new_lines:\n",
    "    array = line[:-1]\n",
    "    if line[-1] == \"True\": # Hit\n",
    "        class_num = 0\n",
    "    else: # Stand\n",
    "        class_num = 1\n",
    "    training_data.append([array, class_num])\n",
    "    \n",
    "print(training_data[:3]) # For debug"
   ]
  },
  {
   "cell_type": "code",
   "execution_count": 11,
   "metadata": {},
   "outputs": [
    {
     "name": "stdout",
     "output_type": "stream",
     "text": [
      "[[[7, 10, 10], 1], [[10, 9, 10], 1], [[9, 8, 10], 1]]\n"
     ]
    }
   ],
   "source": [
    "# Gets rid of the W/L so only the data neccessary for training is left\n",
    "old = training_data\n",
    "training_data = []\n",
    "for line in old:\n",
    "    line[0] = line[0][:-1]\n",
    "    training_data.append(line)\n",
    "    \n",
    "print(training_data[:3]) # For debug"
   ]
  },
  {
   "cell_type": "code",
   "execution_count": 12,
   "metadata": {},
   "outputs": [],
   "source": [
    "# Import the random library\n",
    "import random\n",
    "# Shuffles the training data so that the order is \n",
    "# random (there are hopefully no meaningful patterns in the data)\n",
    "random.shuffle(training_data)"
   ]
  },
  {
   "cell_type": "code",
   "execution_count": 13,
   "metadata": {},
   "outputs": [
    {
     "name": "stdout",
     "output_type": "stream",
     "text": [
      "[[[10, 10, 10], 1], [[6, 5, 5], 0], [[4, 7, 2], 0]]\n"
     ]
    }
   ],
   "source": [
    "print(training_data[:3]) # For debug"
   ]
  },
  {
   "cell_type": "code",
   "execution_count": 14,
   "metadata": {},
   "outputs": [],
   "source": [
    "# Initialises the list used for training, X is the feature set (input), y is the Labels (expected output) \n",
    "X = [] # Feature set\n",
    "y = [] # Labels"
   ]
  },
  {
   "cell_type": "code",
   "execution_count": 15,
   "metadata": {},
   "outputs": [],
   "source": [
    "# Imports the numpy library\n",
    "import numpy as np\n",
    "\n",
    "# Adds the parts in each item of training_data to either X or y\n",
    "for i in training_data:\n",
    "    X.append(i[0])\n",
    "    y.append(i[1])\n",
    "    \n",
    "X = np.array(X)\n",
    "y = np.array(y)"
   ]
  },
  {
   "cell_type": "code",
   "execution_count": 16,
   "metadata": {},
   "outputs": [],
   "source": [
    "# Imports the pickel library\n",
    "import pickle\n",
    "\n",
    "# Saves the list X (list of the inputs) to a .pickle file\n",
    "pickle_out = open(\"X.pickle\", \"wb\")\n",
    "pickle.dump(X, pickle_out)\n",
    "pickle_out.close()\n",
    "\n",
    "# Saves the list y (list of the expected outputs) to a .pickle file\n",
    "pickle_out = open(\"y.pickle\", \"wb\")\n",
    "pickle.dump(y, pickle_out)\n",
    "pickle_out.close()"
   ]
  },
  {
   "cell_type": "code",
   "execution_count": 17,
   "metadata": {},
   "outputs": [
    {
     "name": "stdout",
     "output_type": "stream",
     "text": [
      "Hits: 437196, Not: 378571, Hit % = 0.5359324414937108\n"
     ]
    }
   ],
   "source": [
    "# Checks the ratio of hits and stands, turns out its ~50% which is good \n",
    "hits = 0\n",
    "none = 0\n",
    "\n",
    "for i in training_data:\n",
    "    if i[1] == 0:\n",
    "        hits += 1\n",
    "    elif i[1] == 1:\n",
    "        none += 1\n",
    "        \n",
    "print(f\"Hits: {hits}, Not: {none}, Hit % = {hits / len(training_data)}\")"
   ]
  },
  {
   "cell_type": "code",
   "execution_count": null,
   "metadata": {},
   "outputs": [],
   "source": []
  }
 ],
 "metadata": {
  "kernelspec": {
   "display_name": "Python 3",
   "language": "python",
   "name": "python3"
  },
  "language_info": {
   "codemirror_mode": {
    "name": "ipython",
    "version": 3
   },
   "file_extension": ".py",
   "mimetype": "text/x-python",
   "name": "python",
   "nbconvert_exporter": "python",
   "pygments_lexer": "ipython3",
   "version": "3.7.3"
  }
 },
 "nbformat": 4,
 "nbformat_minor": 2
}
